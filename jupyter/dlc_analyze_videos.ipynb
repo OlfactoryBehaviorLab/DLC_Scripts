{
 "cells": [
  {
   "cell_type": "markdown",
   "id": "98b5cc9334b0fd54",
   "metadata": {},
   "source": "# DewanLab DeepLabCut Video Analysis "
  },
  {
   "cell_type": "code",
   "id": "e6237d61-6b6d-42e4-be5c-aedd3de70e69",
   "metadata": {
    "tags": []
   },
   "source": [
    "import os\n",
    "from pathlib import Path\n",
    "os.environ['DLClight']=\"True\"\n",
    "import deeplabcut"
   ],
   "outputs": [],
   "execution_count": null
  },
  {
   "cell_type": "code",
   "id": "e25d6eb54e65ed1",
   "metadata": {
    "tags": []
   },
   "source": [
    "## User Configuratbles\n",
    "\n",
    "video_dir = '/blue/adamdewan/EPM/'\n",
    "video_file_extensions = ['avi', 'mp4', 'mkv']\n",
    "recursive_video_search = True\n",
    "\n",
    "_shuffle = 1\n",
    "_save_as_csv = True\n",
    "_trailpoints = 0"
   ],
   "outputs": [],
   "execution_count": null
  },
  {
   "cell_type": "code",
   "id": "20ff44cc-7966-4c42-8510-8fc806885666",
   "metadata": {
    "tags": []
   },
   "source": [
    "# The notebook should be in the root directory of the project\n",
    "current_dir = Path.cwd()\n",
    "config_path = current_dir.joinpath('config.yaml')\n",
    "new_videos_dir = Path(video_dir)\n",
    "\n",
    "if not new_videos_dir.exists():\n",
    "    raise FileNotFoundError(f'The path {{{new_videos_dir}}} does not exist!')\n",
    "\n",
    "# Get a list of the videos in \"New Video Files\"\n",
    "video_paths = []\n",
    "\n",
    "for file_extension in video_file_extensions:\n",
    "    search_string = f'*.{file_extension}'\n",
    "    if recursive_video_search:\n",
    "        new_vids = list(new_videos_dir.rglob(search_string))\n",
    "    else:\n",
    "        new_vids = list(new_videos_dir.glob(search_string))\n",
    "\n",
    "    if len(new_vids) > 0:\n",
    "        video_paths.extend(new_vids)\n",
    "        \n",
    "video_paths = [video for video in video_paths if 'labeled' not in video.name]\n",
    "# Filter out any analyzed videos"
   ],
   "outputs": [],
   "execution_count": null
  },
  {
   "cell_type": "code",
   "id": "4d1fa681-9b36-4e10-9484-faf54b1b5661",
   "metadata": {
    "tags": []
   },
   "source": [
    "for video in video_paths:\n",
    "    video_type = video.suffix\n",
    "    analyze_videos(str(config_path), str(video), shuffle=_shuffle, save_as_csv=_save_as_csv, videotype=video_type)\n",
    "    create_labeled_video(str(config_path), str(video), shuffle=_shuffle, videotype=video_type, trailpoints=)_trailpoints"
   ],
   "outputs": [],
   "execution_count": null
  }
 ],
 "metadata": {
  "kernelspec": {
   "display_name": "Dewan Lab DLC",
   "language": "python",
   "name": "dewan_dlc"
  },
  "language_info": {
   "codemirror_mode": {
    "name": "ipython",
    "version": 3
   },
   "file_extension": ".py",
   "mimetype": "text/x-python",
   "name": "python",
   "nbconvert_exporter": "python",
   "pygments_lexer": "ipython3",
   "version": "3.10.14"
  }
 },
 "nbformat": 4,
 "nbformat_minor": 5
}
