{
 "cells": [
  {
   "cell_type": "markdown",
   "source": [
    "# DewanLab DeepLabCut Model Training\n",
    "## 1. Import Dependencies\n",
    "#### *You can ignore any errors from tensorflow about oneDNN, cuBLAS, libnvifer, or TensorRT*"
   ],
   "metadata": {
    "collapsed": false
   },
   "id": "ae7818b7b94a6f9d"
  },
  {
   "cell_type": "code",
   "execution_count": null,
   "id": "initial_id",
   "metadata": {
    "collapsed": true
   },
   "outputs": [],
   "source": [
    "import os\n",
    "from pathlib import Path\n",
    "os.environ['DLClight']=\"True\"\n",
    "import deeplabcut\n",
    "print(\"Dependencies successfully imported!\")\n"
   ]
  },
  {
   "cell_type": "markdown",
   "source": [
    "## 2. Set User Configurables"
   ],
   "metadata": {
    "collapsed": false
   },
   "id": "e244d0d00477d3fa"
  },
  {
   "cell_type": "code",
   "outputs": [],
   "source": [
    "num_new_shuffles = 1"
   ],
   "metadata": {
    "collapsed": false
   },
   "id": "66053ebc6b6b0180"
  },
  {
   "cell_type": "markdown",
   "source": [
    "## 3. Get Config Path\n"
   ],
   "metadata": {
    "collapsed": false
   },
   "id": "3769d3379d8bf7c6"
  },
  {
   "cell_type": "code",
   "outputs": [],
   "source": [
    "current_dir = Path.cwd()\n",
    "config_path = current_dir.joinpath('config.yaml')"
   ],
   "metadata": {
    "collapsed": false
   },
   "id": "519c84391a22357a"
  },
  {
   "cell_type": "markdown",
   "source": [],
   "metadata": {
    "collapsed": false
   },
   "id": "81cec8cf6348d46d"
  },
  {
   "cell_type": "code",
   "outputs": [],
   "source": [
    "deeplabcut.create_training_dataset(config_path, num_shuffles=num_new_shuffles, augmenter_type='imgaug')"
   ],
   "metadata": {
    "collapsed": false
   },
   "id": "40afce858a300bad"
  }
 ],
 "metadata": {
  "kernelspec": {
   "display_name": "Python 3",
   "language": "python",
   "name": "python3"
  },
  "language_info": {
   "codemirror_mode": {
    "name": "ipython",
    "version": 2
   },
   "file_extension": ".py",
   "mimetype": "text/x-python",
   "name": "python",
   "nbconvert_exporter": "python",
   "pygments_lexer": "ipython2",
   "version": "2.7.6"
  }
 },
 "nbformat": 4,
 "nbformat_minor": 5
}
