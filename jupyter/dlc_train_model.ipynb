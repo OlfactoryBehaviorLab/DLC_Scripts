{
 "cells": [
  {
   "metadata": {},
   "cell_type": "markdown",
   "source": "# DewanLab DeepLabCut Model Training",
   "id": "1f3c2e650c9a1514"
  },
  {
   "metadata": {},
   "cell_type": "markdown",
   "source": [
    "## 1. Import Dependencies\n",
    "#### *You can ignore any errors from tensorflow about oneDNN, cuBLAS, libnvifer, or TensorRT*"
   ],
   "id": "dbba20812d827c21"
  },
  {
   "cell_type": "code",
   "execution_count": null,
   "id": "initial_id",
   "metadata": {
    "collapsed": true
   },
   "outputs": [],
   "source": [
    "import os\n",
    "from pathlib import Path\n",
    "os.environ['DLClight']=\"True\"\n",
    "import deeplabcut\n",
    "print(\"Dependencies successfully imported!\")\n"
   ]
  },
  {
   "metadata": {},
   "cell_type": "markdown",
   "source": "## 2. Set User Configurables",
   "id": "c79e7ccc969e606e"
  },
  {
   "metadata": {},
   "cell_type": "code",
   "outputs": [],
   "execution_count": null,
   "source": [
    "new_shuffles=1\n",
    "\n",
    "## Training Parameters ##\n",
    "display_iters = 10\n",
    "save_iters = 2000\n",
    "training_shuffle = 1"
   ],
   "id": "5024c94179cd82ff"
  },
  {
   "metadata": {},
   "cell_type": "markdown",
   "source": "## 3. Get Config Path",
   "id": "2cebd913fcaaa20e"
  },
  {
   "metadata": {},
   "cell_type": "code",
   "outputs": [],
   "execution_count": null,
   "source": [
    "current_dir = Path.cwd()\n",
    "config_path = current_dir.joinpath('config.yaml')"
   ],
   "id": "c46090e366846dc6"
  },
  {
   "metadata": {},
   "cell_type": "markdown",
   "source": [
    "## 4. Create New Training Dataset (If Needed)\n",
    "#### If continuing a previous round of training, this is not needed!"
   ],
   "id": "816be3e66fd5f5bf"
  },
  {
   "metadata": {},
   "cell_type": "code",
   "outputs": [],
   "execution_count": null,
   "source": "deeplabcut.create_training_dataset(config_path, num_shuffles=new_shuffles, augmenter_type='imgaug')",
   "id": "982fd4397bbaa4f9"
  },
  {
   "metadata": {},
   "cell_type": "markdown",
   "source": "## 5. Train Model",
   "id": "cffb2f2f999014f6"
  },
  {
   "metadata": {},
   "cell_type": "code",
   "outputs": [],
   "execution_count": null,
   "source": "deeplabcut.train_network(config_path, shuffle=training_shuffle, displayiters=display_iters, saveiters=save_iters, allow_growth=True)",
   "id": "9d83af415722ac08"
  }
 ],
 "metadata": {
  "kernelspec": {
   "display_name": "Python 3",
   "language": "python",
   "name": "python3"
  },
  "language_info": {
   "codemirror_mode": {
    "name": "ipython",
    "version": 2
   },
   "file_extension": ".py",
   "mimetype": "text/x-python",
   "name": "python",
   "nbconvert_exporter": "python",
   "pygments_lexer": "ipython2",
   "version": "2.7.6"
  }
 },
 "nbformat": 4,
 "nbformat_minor": 5
}
